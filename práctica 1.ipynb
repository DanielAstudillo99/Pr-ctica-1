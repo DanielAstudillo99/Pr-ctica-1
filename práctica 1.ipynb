{
 "cells": [
  {
   "cell_type": "code",
   "execution_count": 2,
   "metadata": {},
   "outputs": [
    {
     "name": "stdout",
     "output_type": "stream",
     "text": [
      "comprar budweiser\n"
     ]
    }
   ],
   "source": [
    "marca = \"budweiser\"\n",
    "if marca == \"budweiser\":\n",
    "    print(\"comprar \" + marca)\n",
    "elif marca == \"aguila\":\n",
    "    print(\"comprar \" + marca)\n",
    "else:\n",
    "    print(\"no compro nada\")\n"
   ]
  },
  {
   "cell_type": "markdown",
   "metadata": {},
   "source": [
    "### ejercicio 3\n"
   ]
  },
  {
   "cell_type": "code",
   "execution_count": null,
   "metadata": {},
   "outputs": [],
   "source": [
    "giro = input(\"¿Por que cuadra tewngo que girar?: \")\n",
    "if giro == \"carrera 9 \":\n",
    "    print(\"giro por la 10\")\n",
    "    "
   ]
  },
  {
   "cell_type": "markdown",
   "metadata": {},
   "source": [
    "### ejercicio 4"
   ]
  },
  {
   "cell_type": "code",
   "execution_count": null,
   "metadata": {},
   "outputs": [],
   "source": [
    "for i in range(1,11):\n",
    "    for j in range(1,11):\n",
    "        respuesta = i* j\n",
    "        print(j,' * ' ,i, = respuesta)\n",
    "        "
   ]
  },
  {
   "cell_type": "code",
   "execution_count": null,
   "metadata": {},
   "outputs": [],
   "source": []
  }
 ],
 "metadata": {
  "kernelspec": {
   "display_name": "Python 3",
   "language": "python",
   "name": "python3"
  },
  "language_info": {
   "codemirror_mode": {
    "name": "ipython",
    "version": 3
   },
   "file_extension": ".py",
   "mimetype": "text/x-python",
   "name": "python",
   "nbconvert_exporter": "python",
   "pygments_lexer": "ipython3",
   "version": "3.8.3"
  }
 },
 "nbformat": 4,
 "nbformat_minor": 4
}
